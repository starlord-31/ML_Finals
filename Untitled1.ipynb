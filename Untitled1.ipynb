{
 "cells": [
  {
   "cell_type": "markdown",
   "id": "0005ad4e-60b5-46d9-9716-b2d5f02dfa17",
   "metadata": {},
   "source": [
    "## Creating a Dataset"
   ]
  },
  {
   "cell_type": "markdown",
   "id": "f6bf769f-8078-4197-90db-115461a5c156",
   "metadata": {},
   "source": [
    "### Creating a Dataset\n",
    "I will create a dataset with the following structure:\n",
    "\n",
    "- User_ID: Unique identifier for each user.\n",
    "- Annual_Income: User's annual income (in USD).\n",
    "- Purchase_History: Total spending on Amazon in the last year (in USD).\n",
    "- Prime_Member: Whether the user is an Amazon Prime member (Yes or No).\n",
    "\n",
    "\n",
    "I'm using a random seed to ensure reproducibility."
   ]
  },
  {
   "cell_type": "code",
   "execution_count": 100,
   "id": "0d0f56ef-948e-4f4d-b0e9-1c0f6176f0c0",
   "metadata": {},
   "outputs": [
    {
     "name": "stdout",
     "output_type": "stream",
     "text": [
      "Initial Dataset:\n",
      "  User_ID  Annual_Income  Purchase_History Prime_Member\n",
      "0    U001          65683              1778          Yes\n",
      "1    U002          48638               877           No\n",
      "2    U003          50463              5982          Yes\n",
      "3    U004         131350               541          Yes\n",
      "4    U005          35520              6066           No\n"
     ]
    }
   ],
   "source": [
    "import pandas as pd\n",
    "import numpy as np\n",
    "\n",
    "np.random.seed(5)\n",
    "\n",
    "data = {\n",
    "    \"User_ID\": [f\"U{str(i).zfill(3)}\" for i in range(1, 31)],\n",
    "    \"Annual_Income\": np.random.randint(30000, 150000, 30),\n",
    "    \"Purchase_History\": np.random.randint(500, 8000, 30),\n",
    "    \"Prime_Member\": np.random.choice([\"Yes\", \"No\"], 30)\n",
    "}\n",
    "\n",
    "df = pd.DataFrame(data)\n",
    "\n",
    "print(\"Initial Dataset:\")\n",
    "print(df.head())"
   ]
  },
  {
   "cell_type": "markdown",
   "id": "adc24220-ac37-46e3-8de8-c290b14c4ee0",
   "metadata": {},
   "source": [
    "### Encoding Prime_Member\n",
    "I am encoding the Prime_Member column to binary format:\n",
    "\n",
    "- Yes as 1\n",
    "- No as 0"
   ]
  },
  {
   "cell_type": "code",
   "execution_count": 103,
   "id": "a6d2a9e3-fe39-4049-8be5-c22731d2784f",
   "metadata": {},
   "outputs": [
    {
     "name": "stdout",
     "output_type": "stream",
     "text": [
      "\n",
      "Dataset after encoding Prime_Member:\n",
      "  User_ID  Annual_Income  Purchase_History Prime_Member  Prime_Member_Encoded\n",
      "0    U001          65683              1778          Yes                     1\n",
      "1    U002          48638               877           No                     0\n",
      "2    U003          50463              5982          Yes                     1\n",
      "3    U004         131350               541          Yes                     1\n",
      "4    U005          35520              6066           No                     0\n"
     ]
    }
   ],
   "source": [
    "from sklearn.preprocessing import LabelEncoder\n",
    "\n",
    "le = LabelEncoder()\n",
    "df['Prime_Member_Encoded'] = le.fit_transform(df['Prime_Member'])\n",
    "\n",
    "print(\"\\nDataset after encoding Prime_Member:\")\n",
    "print(df.head())"
   ]
  },
  {
   "cell_type": "markdown",
   "id": "510e3032-ef7f-42ae-a8b8-c086e44f2e17",
   "metadata": {},
   "source": [
    "### Defining Credit Card Eligibility\n",
    "A user is considered eligible for a credit card if:\n",
    "\n",
    "- Annual_Income > 75,000 OR\n",
    "- Purchase_History > 3,000"
   ]
  },
  {
   "cell_type": "code",
   "execution_count": 106,
   "id": "e7a4a6ce-c4d3-4c06-897e-68a7fde8f139",
   "metadata": {},
   "outputs": [
    {
     "name": "stdout",
     "output_type": "stream",
     "text": [
      "\n",
      "Dataset with Credit_Card_Eligible column:\n",
      "  User_ID  Annual_Income  Purchase_History Prime_Member  Prime_Member_Encoded  \\\n",
      "0    U001          65683              1778          Yes                     1   \n",
      "1    U002          48638               877           No                     0   \n",
      "2    U003          50463              5982          Yes                     1   \n",
      "3    U004         131350               541          Yes                     1   \n",
      "4    U005          35520              6066           No                     0   \n",
      "\n",
      "   Credit_Card_Eligible  \n",
      "0                 False  \n",
      "1                 False  \n",
      "2                  True  \n",
      "3                  True  \n",
      "4                  True  \n"
     ]
    }
   ],
   "source": [
    "df['Credit_Card_Eligible'] = (df['Annual_Income'] > 75000) | (df['Purchase_History'] > 3000)\n",
    "\n",
    "print(\"\\nDataset with Credit_Card_Eligible column:\")\n",
    "print(df.head())"
   ]
  },
  {
   "cell_type": "markdown",
   "id": "82b890dd-6a48-4474-9609-a6484d17fced",
   "metadata": {},
   "source": [
    "### Training a Logistic Regression Model\n",
    "I will use Annual_Income and Purchase_History as predictors to train a logistic regression model. The target variable is Credit_Card_Eligible."
   ]
  },
  {
   "cell_type": "code",
   "execution_count": 109,
   "id": "130ab189-b2f5-4b9f-b441-d114eebcc1f9",
   "metadata": {},
   "outputs": [
    {
     "name": "stdout",
     "output_type": "stream",
     "text": [
      "\n",
      "Logistic Regression Coefficients:\n",
      "            Feature  Coefficient\n",
      "0     Annual_Income     1.442452\n",
      "1  Purchase_History     1.447638\n"
     ]
    }
   ],
   "source": [
    "from sklearn.linear_model import LogisticRegression\n",
    "from sklearn.preprocessing import StandardScaler\n",
    "\n",
    "X = df[['Annual_Income', 'Purchase_History']]\n",
    "y = df['Credit_Card_Eligible'].astype(int)\n",
    "\n",
    "scaler = StandardScaler()\n",
    "X_scaled = scaler.fit_transform(X)\n",
    "\n",
    "lr_model = LogisticRegression(random_state=5)\n",
    "lr_model.fit(X_scaled, y)\n",
    "\n",
    "coef_df = pd.DataFrame({\n",
    "    'Feature': ['Annual_Income', 'Purchase_History'],\n",
    "    'Coefficient': lr_model.coef_[0]\n",
    "})\n",
    "print(\"\\nLogistic Regression Coefficients:\")\n",
    "print(coef_df)"
   ]
  },
  {
   "cell_type": "markdown",
   "id": "f7454628-a182-43d8-b844-06b6d31604e5",
   "metadata": {},
   "source": [
    "### Predicting Credit Card Eligibility\n",
    "Using the logistic regression model to predict eligibility for all users."
   ]
  },
  {
   "cell_type": "code",
   "execution_count": 112,
   "id": "d1287084-d985-44cf-9698-4e89069f7a53",
   "metadata": {},
   "outputs": [
    {
     "name": "stdout",
     "output_type": "stream",
     "text": [
      "\n",
      "Predicted Credit Card Eligibility:\n",
      "   User_ID  Credit_Card_Eligible  Predicted_Eligibility\n",
      "0     U001                 False                      0\n",
      "1     U002                 False                      0\n",
      "2     U003                  True                      1\n",
      "3     U004                  True                      1\n",
      "4     U005                  True                      1\n",
      "5     U006                  True                      1\n",
      "6     U007                  True                      1\n",
      "7     U008                  True                      1\n",
      "8     U009                  True                      1\n",
      "9     U010                 False                      0\n",
      "10    U011                 False                      1\n",
      "11    U012                  True                      1\n",
      "12    U013                  True                      1\n",
      "13    U014                 False                      0\n",
      "14    U015                  True                      1\n",
      "15    U016                  True                      1\n",
      "16    U017                  True                      1\n",
      "17    U018                  True                      1\n",
      "18    U019                  True                      1\n",
      "19    U020                  True                      1\n",
      "20    U021                  True                      1\n",
      "21    U022                  True                      1\n",
      "22    U023                  True                      1\n",
      "23    U024                  True                      1\n",
      "24    U025                  True                      1\n",
      "25    U026                  True                      1\n",
      "26    U027                  True                      1\n",
      "27    U028                  True                      1\n",
      "28    U029                  True                      1\n",
      "29    U030                  True                      1\n"
     ]
    }
   ],
   "source": [
    "# Predict eligibility\n",
    "df['Predicted_Eligibility'] = lr_model.predict(X_scaled)\n",
    "\n",
    "# Display predictions\n",
    "print(\"\\nPredicted Credit Card Eligibility:\")\n",
    "print(df[['User_ID', 'Credit_Card_Eligible', 'Predicted_Eligibility']])"
   ]
  },
  {
   "cell_type": "markdown",
   "id": "63c5f66d-21c9-43fe-bd71-ecca915c0c94",
   "metadata": {},
   "source": [
    "### Performing K-Means Clustering\n",
    "To recommend products, I am clustering users using:\n",
    "\n",
    "- Annual_Income\n",
    "- Purchase_History\n",
    "- Prime_Member_Encoded"
   ]
  },
  {
   "cell_type": "code",
   "execution_count": 115,
   "id": "ccee260c-0bec-4ad4-bcaa-01277aabe722",
   "metadata": {},
   "outputs": [
    {
     "name": "stdout",
     "output_type": "stream",
     "text": [
      "\n",
      "Cluster Assignments:\n",
      "   User_ID  Cluster\n",
      "0     U001        2\n",
      "1     U002        0\n",
      "2     U003        2\n",
      "3     U004        1\n",
      "4     U005        0\n",
      "5     U006        0\n",
      "6     U007        0\n",
      "7     U008        2\n",
      "8     U009        0\n",
      "9     U010        0\n",
      "10    U011        0\n",
      "11    U012        0\n",
      "12    U013        2\n",
      "13    U014        0\n",
      "14    U015        0\n",
      "15    U016        0\n",
      "16    U017        0\n",
      "17    U018        1\n",
      "18    U019        1\n",
      "19    U020        2\n",
      "20    U021        2\n",
      "21    U022        2\n",
      "22    U023        1\n",
      "23    U024        0\n",
      "24    U025        1\n",
      "25    U026        1\n",
      "26    U027        0\n",
      "27    U028        2\n",
      "28    U029        1\n",
      "29    U030        2\n"
     ]
    },
    {
     "name": "stderr",
     "output_type": "stream",
     "text": [
      "C:\\Users\\thall\\anaconda3\\Lib\\site-packages\\sklearn\\cluster\\_kmeans.py:1446: UserWarning: KMeans is known to have a memory leak on Windows with MKL, when there are less chunks than available threads. You can avoid it by setting the environment variable OMP_NUM_THREADS=1.\n",
      "  warnings.warn(\n"
     ]
    }
   ],
   "source": [
    "from sklearn.cluster import KMeans\n",
    "\n",
    "X_clustering = df[['Annual_Income', 'Purchase_History', 'Prime_Member_Encoded']]\n",
    "X_clustering_scaled = scaler.fit_transform(X_clustering)\n",
    "\n",
    "kmeans = KMeans(n_clusters=3, random_state=5)\n",
    "df['Cluster'] = kmeans.fit_predict(X_clustering_scaled)\n",
    "\n",
    "print(\"\\nCluster Assignments:\")\n",
    "print(df[['User_ID', 'Cluster']])"
   ]
  },
  {
   "cell_type": "markdown",
   "id": "32a2ccde-39b7-45ca-86a9-ba6fb63dc740",
   "metadata": {},
   "source": [
    "### Analyzing Clusters\n",
    "Analyzing the cluster centers to interpret the characteristics of each group"
   ]
  },
  {
   "cell_type": "code",
   "execution_count": 118,
   "id": "63411dd7-2eea-443b-a229-78301a0d1d7a",
   "metadata": {},
   "outputs": [
    {
     "name": "stdout",
     "output_type": "stream",
     "text": [
      "\n",
      "Cluster Centers:\n",
      "   Annual_Income  Purchase_History Prime_Member\n",
      "0   71749.857143       4182.785714           No\n",
      "1  124105.000000       1388.142857           No\n",
      "2   82851.333333       5095.222222          Yes\n"
     ]
    }
   ],
   "source": [
    "# Analyze cluster centers\n",
    "cluster_centers = scaler.inverse_transform(kmeans.cluster_centers_)\n",
    "cluster_centers_df = pd.DataFrame(cluster_centers, columns=['Annual_Income', 'Purchase_History', 'Prime_Member_Encoded'])\n",
    "\n",
    "# Decode Prime_Member for cluster centers\n",
    "cluster_centers_df['Prime_Member'] = cluster_centers_df['Prime_Member_Encoded'].round().astype(int)\n",
    "cluster_centers_df['Prime_Member'] = le.inverse_transform(cluster_centers_df['Prime_Member'])\n",
    "cluster_centers_df.drop(columns=['Prime_Member_Encoded'], inplace=True)\n",
    "\n",
    "print(\"\\nCluster Centers:\")\n",
    "print(cluster_centers_df)"
   ]
  },
  {
   "cell_type": "markdown",
   "id": "80533b26-fc71-430c-9e61-b2c430d887c9",
   "metadata": {},
   "source": [
    "### Visualizing Results\n",
    "#### Logistic Regression Coefficients"
   ]
  },
  {
   "cell_type": "code",
   "execution_count": 121,
   "id": "85c30148-cf35-4eee-b4a1-63816cf1dd50",
   "metadata": {},
   "outputs": [
    {
     "name": "stderr",
     "output_type": "stream",
     "text": [
      "C:\\Users\\thall\\AppData\\Local\\Temp\\ipykernel_40992\\876219757.py:5: FutureWarning: \n",
      "\n",
      "Passing `palette` without assigning `hue` is deprecated and will be removed in v0.14.0. Assign the `x` variable to `hue` and set `legend=False` for the same effect.\n",
      "\n",
      "  sns.barplot(data=coef_df, x='Feature', y='Coefficient', palette='viridis')\n"
     ]
    },
    {
     "data": {
      "image/png": "[encoded data removed]",
      "text/plain": [
       "<Figure size 800x500 with 1 Axes>"
      ]
     },
     "metadata": {},
     "output_type": "display_data"
    }
   ],
   "source": [
    "import matplotlib.pyplot as plt\n",
    "import seaborn as sns\n",
    "\n",
    "plt.figure(figsize=(8, 5))\n",
    "sns.barplot(data=coef_df, x='Feature', y='Coefficient', palette='viridis')\n",
    "plt.title('Logistic Regression Coefficients')\n",
    "plt.xlabel('Features')\n",
    "plt.ylabel('Coefficient')\n",
    "plt.grid(axis='y')\n",
    "plt.show()"
   ]
  },
  {
   "cell_type": "markdown",
   "id": "c637e1ce-845d-42c2-a1a3-d8ce7476d339",
   "metadata": {},
   "source": [
    "#### K-Means Clustering"
   ]
  },
  {
   "cell_type": "code",
   "execution_count": 124,
   "id": "b37f5c18-8507-4aee-9afa-a0da4ac463b8",
   "metadata": {},
   "outputs": [
    {
     "data": {
      "image/png": "[encoded data removed]",
      "text/plain": [
       "<Figure size 1000x600 with 1 Axes>"
      ]
     },
     "metadata": {},
     "output_type": "display_data"
    }
   ],
   "source": [
    "plt.figure(figsize=(10, 6))\n",
    "sns.scatterplot(data=df, x='Annual_Income', y='Purchase_History', hue='Cluster', palette='viridis', s=100)\n",
    "plt.title('K-Means Clustering of Amazon Users')\n",
    "plt.xlabel('Annual Income (USD)')\n",
    "plt.ylabel('Purchase History (USD)')\n",
    "plt.legend(title='Cluster')\n",
    "plt.grid()\n",
    "plt.show()"
   ]
  },
  {
   "cell_type": "markdown",
   "id": "0f4e73a2-b9ae-4d1c-bf2e-888f675503c1",
   "metadata": {},
   "source": [
    "### Final Conclusions"
   ]
  },
  {
   "cell_type": "markdown",
   "id": "7fa96213-cfe9-4570-99c1-69c2fd98136c",
   "metadata": {},
   "source": [
    "Credit Card Eligibility:\n",
    "- Users with higher purchase history and/or higher annual income are more likely to qualify for a credit card.\n",
    "- Amazon should focus on users with substantial spending behavior to market credit cards, even if their income is only moderate."
   ]
  },
  {
   "cell_type": "markdown",
   "id": "4430189c-d172-4729-987b-b475fd750b9e",
   "metadata": {},
   "source": [
    "Product Recommendations:\n",
    "- Cluster 2 (High income, high spending): Recommend luxury and premium products.\n",
    "- Cluster 1 (Moderate income, moderate spending): Recommend mid-range products and family-oriented deals.\n",
    "- Cluster 0 (Low income, low spending): Recommend budget-friendly items and highlight benefits of Prime membership.\n",
    "- Correct Conclusion: The clustering captures user behavior well, enabling targeted product recommendations."
   ]
  },
  {
   "cell_type": "code",
   "execution_count": null,
   "id": "d3655202-f8b3-4489-b2cf-f0474e808d6e",
   "metadata": {},
   "outputs": [],
   "source": []
  }
 ],
 "metadata": {
  "kernelspec": {
   "display_name": "Python 3 (ipykernel)",
   "language": "python",
   "name": "python3"
  },
  "language_info": {
   "codemirror_mode": {
    "name": "ipython",
    "version": 3
   },
   "file_extension": ".py",
   "mimetype": "text/x-python",
   "name": "python",
   "nbconvert_exporter": "python",
   "pygments_lexer": "ipython3",
   "version": "3.12.4"
  }
 },
 "nbformat": 4,
 "nbformat_minor": 5
}
